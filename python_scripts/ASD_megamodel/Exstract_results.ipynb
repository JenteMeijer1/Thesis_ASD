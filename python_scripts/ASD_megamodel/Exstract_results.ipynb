{
 "cells": [
  {
   "cell_type": "code",
   "execution_count": 13,
   "metadata": {},
   "outputs": [],
   "source": [
    "import pandas as pd\n",
    "import pickle\n",
    "import numpy as np\n"
   ]
  },
  {
   "cell_type": "code",
   "execution_count": 14,
   "metadata": {},
   "outputs": [],
   "source": [
    "with open('/Users/jentemeijer/Downloads/results/Z_transfer.pkl', 'rb') as f:\n",
    "    modeldata = pickle.load(f)\n",
    "\n",
    "with open('/Users/jentemeijer/Downloads/results/EXPV_transfer.pkl', 'rb') as f:\n",
    "    EXPV = pickle.load(f)\n",
    "\n",
    "with open('/Users/jentemeijer/Downloads/results/pRho_transfer.pkl', 'rb') as f:\n",
    "    pRho = pickle.load(f)\n",
    "\n",
    "with open('/Users/jentemeijer/Downloads/results/RMSE_transfer.pkl', 'rb') as f:\n",
    "    RMSE = pickle.load(f)\n",
    "\n",
    "with open('/Users/jentemeijer/Downloads/results/SMSE_transfer.pkl', 'rb') as f:\n",
    "    SMSE = pickle.load(f)\n",
    "\n",
    "\n",
    "Rdata = pd.read_csv(\"/Volumes/methlab/Students/Jente/Data/sensitivity analysis/megamodelCSV/data_megamodel_test.csv\")\n"
   ]
  },
  {
   "cell_type": "code",
   "execution_count": 16,
   "metadata": {},
   "outputs": [],
   "source": [
    "# Give the column the correct names again\n",
    "data = modeldata\n",
    "data.columns = Rdata.columns[4:]"
   ]
  },
  {
   "cell_type": "code",
   "execution_count": 17,
   "metadata": {},
   "outputs": [],
   "source": [
    "# Merge back with subject numbers\n",
    "data['SUB_ID'] = Rdata.iloc[:,0]"
   ]
  },
  {
   "cell_type": "code",
   "execution_count": 18,
   "metadata": {},
   "outputs": [],
   "source": [
    "# Export as csv so we can use it for statistical analysis in R\n",
    "file_path = '/Volumes/methlab/Students/Jente/Data/sensitivity analysis/megamodelCSV/results/resultsmegamodel.csv'\n",
    "data.to_csv(file_path, index=False)"
   ]
  }
 ],
 "metadata": {
  "kernelspec": {
   "display_name": "meta_model",
   "language": "python",
   "name": "python3"
  },
  "language_info": {
   "codemirror_mode": {
    "name": "ipython",
    "version": 3
   },
   "file_extension": ".py",
   "mimetype": "text/x-python",
   "name": "python",
   "nbconvert_exporter": "python",
   "pygments_lexer": "ipython3",
   "version": "3.9.16"
  },
  "orig_nbformat": 4
 },
 "nbformat": 4,
 "nbformat_minor": 2
}
